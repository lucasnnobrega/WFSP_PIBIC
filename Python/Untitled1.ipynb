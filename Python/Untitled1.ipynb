{
 "cells": [
  {
   "cell_type": "code",
   "execution_count": 3,
   "metadata": {},
   "outputs": [],
   "source": [
    "##############################################################################\n",
    "#\n",
    "# An example of creating a chart with Pandas and XlsxWriter.\n",
    "#\n",
    "# Copyright 2013, John McNamara, jmcnamara@cpan.org\n",
    "#\n",
    "\n",
    "import pandas as pd\n",
    "from vincent.colors import brews\n",
    "\n",
    "# Some sample data to plot.\n",
    "farm_1 = {'apples': 10, 'berries': 32, 'squash': 21, 'melons': 13, 'corn': 18}\n",
    "farm_2 = {'apples': 15, 'berries': 43, 'squash': 17, 'melons': 10, 'corn': 22}\n",
    "farm_3 = {'apples': 6, 'berries': 24, 'squash': 22, 'melons': 16, 'corn': 30}\n",
    "farm_4 = {'apples': 12, 'berries': 30, 'squash': 15, 'melons': 9, 'corn': 15}\n",
    "\n",
    "data = [farm_1, farm_2, farm_3, farm_4]\n",
    "index = ['Farm 1', 'Farm 2', 'Farm 3', 'Farm 4']\n",
    "\n",
    "# Create a Pandas dataframe from the data.\n",
    "df = pd.DataFrame(data, index=index)\n",
    "\n",
    "# Create a Pandas Excel writer using XlsxWriter as the engine.\n",
    "excel_file = 'grouped_column_farms.xlsx'\n",
    "sheet_name = 'Sheet1'\n",
    "\n",
    "writer = pd.ExcelWriter(excel_file, engine='xlsxwriter')\n",
    "df.to_excel(writer, sheet_name=sheet_name)\n",
    "\n",
    "# Access the XlsxWriter workbook and worksheet objects from the dataframe.\n",
    "workbook = writer.book\n",
    "worksheet = writer.sheets[sheet_name]\n",
    "\n",
    "# Create a chart object.\n",
    "chart = workbook.add_chart({'type': 'column'})\n",
    "\n",
    "# Configure the series of the chart from the dataframe data.\n",
    "for col_num in range(1, len(farm_1) + 1):\n",
    "    chart.add_series({\n",
    "        'name':       ['Sheet1', 0, col_num],\n",
    "        'categories': ['Sheet1', 1, 0, 4, 0],\n",
    "        'values':     ['Sheet1', 1, col_num, 4, col_num],\n",
    "        'fill':       {'color': brews['Set1'][col_num - 1]},\n",
    "        'overlap':-10,\n",
    "    })\n",
    "\n",
    "# Configure the chart axes.\n",
    "chart.set_x_axis({'name': 'Total Produce'})\n",
    "chart.set_y_axis({'name': 'Farms', 'major_gridlines': {'visible': False}})\n",
    "\n",
    "# Insert the chart into the worksheet.\n",
    "worksheet.insert_chart('H2', chart)\n",
    "\n",
    "# Close the Pandas Excel writer and output the Excel file.\n",
    "writer.save()"
   ]
  },
  {
   "cell_type": "code",
   "execution_count": 4,
   "metadata": {},
   "outputs": [
    {
     "data": {
      "text/html": [
       "<div>\n",
       "<style scoped>\n",
       "    .dataframe tbody tr th:only-of-type {\n",
       "        vertical-align: middle;\n",
       "    }\n",
       "\n",
       "    .dataframe tbody tr th {\n",
       "        vertical-align: top;\n",
       "    }\n",
       "\n",
       "    .dataframe thead th {\n",
       "        text-align: right;\n",
       "    }\n",
       "</style>\n",
       "<table border=\"1\" class=\"dataframe\">\n",
       "  <thead>\n",
       "    <tr style=\"text-align: right;\">\n",
       "      <th></th>\n",
       "      <th>apples</th>\n",
       "      <th>berries</th>\n",
       "      <th>corn</th>\n",
       "      <th>melons</th>\n",
       "      <th>squash</th>\n",
       "    </tr>\n",
       "  </thead>\n",
       "  <tbody>\n",
       "    <tr>\n",
       "      <th>Farm 1</th>\n",
       "      <td>10</td>\n",
       "      <td>32</td>\n",
       "      <td>18</td>\n",
       "      <td>13</td>\n",
       "      <td>21</td>\n",
       "    </tr>\n",
       "    <tr>\n",
       "      <th>Farm 2</th>\n",
       "      <td>15</td>\n",
       "      <td>43</td>\n",
       "      <td>22</td>\n",
       "      <td>10</td>\n",
       "      <td>17</td>\n",
       "    </tr>\n",
       "    <tr>\n",
       "      <th>Farm 3</th>\n",
       "      <td>6</td>\n",
       "      <td>24</td>\n",
       "      <td>30</td>\n",
       "      <td>16</td>\n",
       "      <td>22</td>\n",
       "    </tr>\n",
       "    <tr>\n",
       "      <th>Farm 4</th>\n",
       "      <td>12</td>\n",
       "      <td>30</td>\n",
       "      <td>15</td>\n",
       "      <td>9</td>\n",
       "      <td>15</td>\n",
       "    </tr>\n",
       "  </tbody>\n",
       "</table>\n",
       "</div>"
      ],
      "text/plain": [
       "        apples  berries  corn  melons  squash\n",
       "Farm 1      10       32    18      13      21\n",
       "Farm 2      15       43    22      10      17\n",
       "Farm 3       6       24    30      16      22\n",
       "Farm 4      12       30    15       9      15"
      ]
     },
     "execution_count": 4,
     "metadata": {},
     "output_type": "execute_result"
    }
   ],
   "source": [
    "df"
   ]
  },
  {
   "cell_type": "code",
   "execution_count": 6,
   "metadata": {},
   "outputs": [
    {
     "data": {
      "text/plain": [
       "5"
      ]
     },
     "execution_count": 6,
     "metadata": {},
     "output_type": "execute_result"
    }
   ],
   "source": [
    "len(farm_1)"
   ]
  },
  {
   "cell_type": "code",
   "execution_count": null,
   "metadata": {},
   "outputs": [],
   "source": []
  }
 ],
 "metadata": {
  "kernelspec": {
   "display_name": "Python 3",
   "language": "python",
   "name": "python3"
  },
  "language_info": {
   "codemirror_mode": {
    "name": "ipython",
    "version": 3
   },
   "file_extension": ".py",
   "mimetype": "text/x-python",
   "name": "python",
   "nbconvert_exporter": "python",
   "pygments_lexer": "ipython3",
   "version": "3.6.8"
  }
 },
 "nbformat": 4,
 "nbformat_minor": 2
}
