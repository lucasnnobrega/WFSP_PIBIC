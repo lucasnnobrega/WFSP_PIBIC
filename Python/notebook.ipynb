{
 "cells": [
  {
   "cell_type": "code",
   "execution_count": 44,
   "metadata": {},
   "outputs": [],
   "source": [
    "import asyncio\n",
    "import pandas as pd\n",
    "import time\n",
    "import os\n",
    "from copy import deepcopy"
   ]
  },
  {
   "cell_type": "code",
   "execution_count": 46,
   "metadata": {},
   "outputs": [],
   "source": [
    "commands_per_file = [{\n",
    "    \"file\": file,\n",
    "    \"cortes\": [\"./mock_main.py -v aa -c {} -t 1 -i {}\".format(c, file) for c in [0, 2, 6]]\n",
    "} for file in os.listdir(\"./files\")]"
   ]
  },
  {
   "cell_type": "code",
   "execution_count": 67,
   "metadata": {},
   "outputs": [],
   "source": [
    "async def spawn(cmd):\n",
    "    proc = await asyncio.create_subprocess_shell(\n",
    "        cmd,\n",
    "        stdout=asyncio.subprocess.PIPE,\n",
    "        stderr=asyncio.subprocess.PIPE)\n",
    "    stdout, _ = await proc.communicate()\n",
    "    return stdout\n",
    "\n",
    "\n",
    "async def run_command(cmd, ttl):\n",
    "    \"\"\"\n",
    "        Dado um comando retorna tempo de execucao ou \"ttl\"\n",
    "    \"\"\"\n",
    "    start = time.time()\n",
    "    try:\n",
    "        await asyncio.wait_for(spawn(cmd), timeout=ttl)\n",
    "        delta = time.time() - start\n",
    "        return delta\n",
    "    except asyncio.TimeoutError:\n",
    "        return \"ttl\"\n",
    "\n",
    "\n",
    "async def main():\n",
    "    data = deepcopy(commands_per_file)\n",
    "    for i in range(0, len(commands_per_file)):\n",
    "        data[i][\"cortes\"] = [asyncio.create_task(\n",
    "            run_command(cmd, 0.5)) for cmd in data[i][\"cortes\"]]\n",
    "\n",
    "        data[i][\"cortes\"] = [await task for task in data[i][\"cortes\"]]\n",
    "    return data"
   ]
  },
  {
   "cell_type": "code",
   "execution_count": 66,
   "metadata": {},
   "outputs": [],
   "source": [
    "#asyncio.run(main())\n",
    "data = await main()"
   ]
  },
  {
   "cell_type": "code",
   "execution_count": 65,
   "metadata": {},
   "outputs": [
    {
     "data": {
      "text/html": [
       "<div>\n",
       "<style scoped>\n",
       "    .dataframe tbody tr th:only-of-type {\n",
       "        vertical-align: middle;\n",
       "    }\n",
       "\n",
       "    .dataframe tbody tr th {\n",
       "        vertical-align: top;\n",
       "    }\n",
       "\n",
       "    .dataframe thead th {\n",
       "        text-align: right;\n",
       "    }\n",
       "</style>\n",
       "<table border=\"1\" class=\"dataframe\">\n",
       "  <thead>\n",
       "    <tr style=\"text-align: right;\">\n",
       "      <th></th>\n",
       "      <th>cortes</th>\n",
       "    </tr>\n",
       "    <tr>\n",
       "      <th>file</th>\n",
       "      <th></th>\n",
       "    </tr>\n",
       "  </thead>\n",
       "  <tbody>\n",
       "    <tr>\n",
       "      <th>teste_2.txt</th>\n",
       "      <td>ttl</td>\n",
       "    </tr>\n",
       "    <tr>\n",
       "      <th>teste_2.txt</th>\n",
       "      <td>0.283755</td>\n",
       "    </tr>\n",
       "    <tr>\n",
       "      <th>teste_2.txt</th>\n",
       "      <td>0.489464</td>\n",
       "    </tr>\n",
       "    <tr>\n",
       "      <th>teste_1.txt</th>\n",
       "      <td>ttl</td>\n",
       "    </tr>\n",
       "    <tr>\n",
       "      <th>teste_1.txt</th>\n",
       "      <td>ttl</td>\n",
       "    </tr>\n",
       "    <tr>\n",
       "      <th>teste_1.txt</th>\n",
       "      <td>0.469885</td>\n",
       "    </tr>\n",
       "  </tbody>\n",
       "</table>\n",
       "</div>"
      ],
      "text/plain": [
       "               cortes\n",
       "file                 \n",
       "teste_2.txt       ttl\n",
       "teste_2.txt  0.283755\n",
       "teste_2.txt  0.489464\n",
       "teste_1.txt       ttl\n",
       "teste_1.txt       ttl\n",
       "teste_1.txt  0.469885"
      ]
     },
     "execution_count": 65,
     "metadata": {},
     "output_type": "execute_result"
    }
   ],
   "source": [
    "df = pd.DataFrame(data)\n",
    "df.explode(\"cortes\").set_index(\"file\")"
   ]
  }
 ],
 "metadata": {
  "file_extension": ".py",
  "kernelspec": {
   "display_name": "Python 3",
   "language": "python",
   "name": "python3"
  },
  "language_info": {
   "codemirror_mode": {
    "name": "ipython",
    "version": 3
   },
   "file_extension": ".py",
   "mimetype": "text/x-python",
   "name": "python",
   "nbconvert_exporter": "python",
   "pygments_lexer": "ipython3",
   "version": "3.7.3"
  },
  "mimetype": "text/x-python",
  "name": "python",
  "npconvert_exporter": "python",
  "pygments_lexer": "ipython3",
  "version": 3
 },
 "nbformat": 4,
 "nbformat_minor": 2
}
